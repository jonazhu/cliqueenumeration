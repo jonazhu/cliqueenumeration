{
 "cells": [
  {
   "cell_type": "markdown",
   "metadata": {},
   "source": [
    "# Clique enumeration\n",
    "\n",
    "In this notebook, I will be working on clique enumeration in python as following alongside the paper we are working on.\n",
    "\n",
    "## Verification of 3-clique in a 4-graph\n",
    "\n",
    "As a first example, we have a simple example where we have 4 nodes in an adjacency matrix and specify 3. the code returns if this is a clique (all nodes connected). But with Python, it is trivial to write the verification code for a clique of any size in any graph."
   ]
  },
  {
   "cell_type": "code",
   "execution_count": 1,
   "metadata": {},
   "outputs": [],
   "source": [
    "import numpy as np"
   ]
  },
  {
   "cell_type": "code",
   "execution_count": 4,
   "metadata": {},
   "outputs": [
    {
     "name": "stdout",
     "output_type": "stream",
     "text": [
      "True\n",
      "True\n",
      "True\n",
      "True\n"
     ]
    }
   ],
   "source": [
    "\"\"\"VerifyClique() is a function that takes in an adjacency matrix representing\n",
    "a graph and a list of nodes. The function should return a boolean indicating if the\n",
    "list of nodes forms a clique (a complete subgraph with all nodes connected to each other).\"\"\"\n",
    "def VerifyClique(adjacency_matrix, nodes):\n",
    "    # Check if the nodes form a clique\n",
    "    for i in range(len(nodes)):\n",
    "        for j in range(i+1, len(nodes)):\n",
    "            if adjacency_matrix[nodes[i]][nodes[j]] == 0:\n",
    "                return False\n",
    "    return True\n",
    "\n",
    "# Test the function\n",
    "adjacency_matrix = np.array([[0, 1, 1, 1],\n",
    "                              [1, 0, 1, 1],\n",
    "                              [1, 1, 0, 1],\n",
    "                              [1, 1, 1, 0]])\n",
    "nodes = [0, 1, 2]\n",
    "print(VerifyClique(adjacency_matrix, nodes)) # True\n",
    "\n",
    "nodes = [0, 1, 3]\n",
    "print(VerifyClique(adjacency_matrix, nodes)) # also true\n",
    "\n",
    "#i want to test this with a 6x6 matrix now\n",
    "adjacency_matrix = np.array([[0, 1, 1, 1, 1, 1],\n",
    "                              [1, 0, 1, 1, 1, 1],\n",
    "                              [1, 1, 0, 1, 1, 1],\n",
    "                              [1, 1, 1, 0, 1, 1],\n",
    "                              [1, 1, 1, 1, 0, 1],\n",
    "                              [1, 1, 1, 1, 1, 0]])\n",
    "nodes = [0, 1, 2, 3, 4, 5]\n",
    "print(VerifyClique(adjacency_matrix, nodes)) # True\n",
    "nodes = [0, 1, 2, 3, 4]\n",
    "print(VerifyClique(adjacency_matrix, nodes)) # True"
   ]
  },
  {
   "cell_type": "markdown",
   "metadata": {},
   "source": [
    "When given in the form of the Python code, or if we were to write this as pseudocode, we can easily see that verification of a clique is clearly polynomial time. In this case, it is $O(k^2)$ time.\n",
    "\n",
    "## Clique Enumeriation\n",
    "\n",
    "Of course, since the problem is largely considered NP-complete, we don't know of a polynomial algorithm to find all cliques. The paper uses combinatorics combined with parallel processing to do polynomial enumeration, but we can do the serial component in Python. We turn to golang for the parallel part."
   ]
  },
  {
   "cell_type": "code",
   "execution_count": 6,
   "metadata": {},
   "outputs": [
    {
     "name": "stdout",
     "output_type": "stream",
     "text": [
      "[[0, 1, 2], [0, 1, 3], [0, 2, 3], [1, 2, 3], [0, 1, 4], [0, 2, 4], [1, 2, 4], [0, 3, 4], [1, 3, 4], [2, 3, 4]]\n",
      "[[0, 1], [0, 2], [1, 2], [0, 3], [1, 3], [2, 3]]\n"
     ]
    }
   ],
   "source": [
    "\"\"\"EnumerateCliques() is a function that takes in an adjacency matrix representing a graph as\n",
    "well as an integer k. The function should return a list of all cliques of size k in the graph.\"\"\"\n",
    "def EnumerateCliques(adjacency_matrix, k):\n",
    "    # Enumerate all cliques of size k\n",
    "    n = len(adjacency_matrix)\n",
    "    cliques = []\n",
    "\n",
    "    #first we need to get all the possible combinations of k nodes\n",
    "    #I will write my own function to do this\n",
    "    combinations = get_combinations(n, k)\n",
    "    for comb in combinations:\n",
    "        if VerifyClique(adjacency_matrix, comb):\n",
    "            cliques.append(comb)\n",
    "\n",
    "    return cliques\n",
    "\n",
    "\"\"\"get_combinations() is a function that takes in two integers n and k and returns a list of all\n",
    "combinations of k elements from the set [0, 1, ..., n-1].\"\"\"\n",
    "def get_combinations(n, k):\n",
    "    # Get all combinations of k elements from the set [0, 1, ..., n-1]\n",
    "    if k == 0:\n",
    "        return [[]]\n",
    "    if n == 0:\n",
    "        return []\n",
    "    if k == 1:\n",
    "        return [[i] for i in range(n)]\n",
    "    return get_combinations(n-1, k) + [comb + [n-1] for comb in get_combinations(n-1, k-1)]\n",
    "\n",
    "#test get_combinations\n",
    "print(get_combinations(5, 3))\n",
    "# [[0, 1, 2], [0, 1, 3], [0, 1, 4], [0, 2, 3], [0, 2, 4], [0, 3, 4], [1, 2, 3], [1, 2, 4], [1, 3, 4], [2, 3, 4]]\n",
    "#another test case\n",
    "print(get_combinations(4, 2))\n",
    "# [[0, 1], [0, 2], [0, 3], [1, 2], [1, 3], [2, 3]]"
   ]
  },
  {
   "cell_type": "code",
   "execution_count": 7,
   "metadata": {},
   "outputs": [
    {
     "name": "stdout",
     "output_type": "stream",
     "text": [
      "[[0, 1, 2], [0, 1, 3], [0, 2, 3], [1, 2, 3]]\n"
     ]
    }
   ],
   "source": [
    "#test EnumerateCliques\n",
    "adjacency_matrix = np.array([[0, 1, 1, 1],\n",
    "                              [1, 0, 1, 1],\n",
    "                              [1, 1, 0, 1],\n",
    "                              [1, 1, 1, 0]])\n",
    "k = 3\n",
    "print(EnumerateCliques(adjacency_matrix, k))\n",
    "# [[0, 1, 2], [0, 1, 3], [0, 2, 3], [1, 2, 3]]"
   ]
  },
  {
   "cell_type": "markdown",
   "metadata": {},
   "source": [
    "Verification of a clique is polynomial time, but getting clique combinations is exponential/factorial time. I think it works to say this is $O(n!)$ time."
   ]
  }
 ],
 "metadata": {
  "kernelspec": {
   "display_name": "base",
   "language": "python",
   "name": "python3"
  },
  "language_info": {
   "codemirror_mode": {
    "name": "ipython",
    "version": 3
   },
   "file_extension": ".py",
   "mimetype": "text/x-python",
   "name": "python",
   "nbconvert_exporter": "python",
   "pygments_lexer": "ipython3",
   "version": "3.9.7"
  }
 },
 "nbformat": 4,
 "nbformat_minor": 2
}
